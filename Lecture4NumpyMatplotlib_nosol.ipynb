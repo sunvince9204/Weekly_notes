{
  "cells": [
    {
      "cell_type": "markdown",
      "metadata": {
        "id": "view-in-github",
        "colab_type": "text"
      },
      "source": [
        "<a href=\"https://colab.research.google.com/github/sunvince9204/Weekly_notes/blob/main/Lecture4NumpyMatplotlib_nosol.ipynb\" target=\"_parent\"><img src=\"https://colab.research.google.com/assets/colab-badge.svg\" alt=\"Open In Colab\"/></a>"
      ]
    },
    {
      "cell_type": "markdown",
      "metadata": {
        "id": "oxQOGrw6bXSa"
      },
      "source": [
        "# numpy and matplotlib"
      ]
    },
    {
      "cell_type": "markdown",
      "metadata": {
        "id": "zYiCfmsybXSg"
      },
      "source": [
        "*Newly arrived in San Francisco, walking along Pier 39, Cynthia was approached by a Black man wearing a red bow tie and suit.  He asked Cynthia's name, and she gave it.*\n",
        "\n",
        "<i><p>\"Cynthia, can I interest you in helping to fight Bleeding Nail Disease?\" the man asked, producing a sheet of numbers from his breast pocket.  \"Here are our projected population numbers for the next two years.  As you can see, things are quite dire.\"</p>\n",
        "<br>\n",
        "\"I'll take a look,\" Cynthia said, as she would say about any random flyer.</p>\n",
        "\n",
        "<p>\"If you're interested, come back tomorrow!\" the man said, and he moved on to another passerby.</p>\n",
        "</i>\n",
        "\n",
        "*She kept the paper, but thought, who is going to be moved by this page full of numbers?  Where was the visualization?*"
      ]
    },
    {
      "cell_type": "markdown",
      "metadata": {
        "id": "AhSpbvMXkNM3"
      },
      "source": [
        "# Two major libraries:  numpy and matplotlib\n",
        "\n",
        "Today we'll introduce you to two of the most important libraries for data science.  Numpy stands for \"numerical python\" and contains many tools essential for working with data.  matplotlib is named after its goal of having plotting tools as nice as matlab's.  We'll demonstrate some of the most essential tools here."
      ]
    },
    {
      "cell_type": "markdown",
      "metadata": {
        "id": "0RImclJIlc5R"
      },
      "source": [
        "# Importing numpy and matplotlib\n",
        "\n",
        "While we could just write \"import numpy\" and \"import matplotlib,\" this would require us to type out \"numpy\" or \"matplotlib\" before every function call from these modules.  Instead, it's conventional to rename these modules or their libraries to conventional abbreviations, resulting in less typing.  Thus:"
      ]
    },
    {
      "cell_type": "code",
      "execution_count": null,
      "metadata": {
        "id": "LinuBXszmE-e"
      },
      "outputs": [],
      "source": [
        "import numpy as np\n",
        "import matplotlib.pyplot as plt"
      ]
    },
    {
      "cell_type": "markdown",
      "metadata": {
        "id": "0z6gOroQOVBK"
      },
      "source": [
        "If we wanted just a particular function to import, we could write something like the following:"
      ]
    },
    {
      "cell_type": "code",
      "execution_count": null,
      "metadata": {
        "id": "ueOhfegIOc3l",
        "colab": {
          "base_uri": "https://localhost:8080/"
        },
        "outputId": "f6fcab0d-06fb-4c38-97b7-a275737e80d6"
      },
      "outputs": [
        {
          "output_type": "stream",
          "name": "stdout",
          "text": [
            "4.0\n",
            "4.0\n"
          ]
        }
      ],
      "source": [
        "from numpy import mean\n",
        "print(mean([3,4,5]))\n",
        "#Or...\n",
        "from numpy import mean as avg\n",
        "print(avg([3,4,5]))"
      ]
    },
    {
      "cell_type": "markdown",
      "metadata": {
        "id": "ULqWNNUIlPi4"
      },
      "source": [
        "# Numpy, vectors, and matrices\n",
        "\n",
        "A *vector* is a sequence of numbers.  There are many ways to represent an array in Python, but one is more efficient, meaning the code will run faster.  That is the *array* in the numpy module."
      ]
    },
    {
      "cell_type": "markdown",
      "metadata": {
        "id": "fMCggZvsbXSl"
      },
      "source": [
        "Here is how to create 1D and 2D numpy arrays."
      ]
    },
    {
      "cell_type": "markdown",
      "source": [
        "lists and arrays are very similiar but arrays are more used for mathematical functions and lists are used more for sorting."
      ],
      "metadata": {
        "id": "eB2ieVypdAk9"
      }
    },
    {
      "cell_type": "code",
      "execution_count": null,
      "metadata": {
        "id": "22FsaBslkJO2"
      },
      "outputs": [],
      "source": [
        "v = np.array([1,2,3])\n",
        "A = np.array([[1,0,0,0],[0,2,0,0],[0,0,3,0],[0,0,0,4]])  # 3x3 with 1,2,3 along the diagonal"
      ]
    },
    {
      "cell_type": "markdown",
      "metadata": {
        "id": "PPQOVBx8bXSm"
      },
      "source": [
        "One thing that arrays can do but lists can't is called broadcasting.  When a number is added to a vector, it's added to all the elements of the vector.  The same thing goes for multiplication, raising to a power, and some other mathematical operations - they're applied element by element to the whole array."
      ]
    },
    {
      "cell_type": "code",
      "execution_count": null,
      "metadata": {
        "colab": {
          "base_uri": "https://localhost:8080/"
        },
        "id": "K5T6RVRUbXSm",
        "outputId": "64ece4f7-b1ee-4ee1-d357-86a7a7764b55"
      },
      "outputs": [
        {
          "output_type": "stream",
          "name": "stdout",
          "text": [
            "[1 2 3]\n",
            "[2 3 4]\n",
            "[2 4 6]\n",
            "[1 4 9]\n",
            "[2 3 4]\n"
          ]
        }
      ],
      "source": [
        "print(v)\n",
        "print(v + 1)\n",
        "#v does not change from first operation so all opperations using v is using the original vector\n",
        "print(v * 2)\n",
        "print(v ** 2)\n",
        "v2 = np.array([1, 1, 1])\n",
        "print(v+v2)"
      ]
    },
    {
      "cell_type": "markdown",
      "metadata": {
        "id": "LH8ObwhkoPrv"
      },
      "source": [
        "Numpy also makes matrix multiplication easy; it's @ in numpy.  Matrix multiplication by a vector creates a new vector where each element is a weighted sum of the original vector.  It's a fundamental operation in linear algebra, useful in statistics and machine learning.  For example, the effects of a layer of a neural network can be described as a matrix multiplication."
      ]
    },
    {
      "cell_type": "code",
      "execution_count": null,
      "metadata": {
        "colab": {
          "base_uri": "https://localhost:8080/"
        },
        "id": "XexuZ-NYoqeI",
        "outputId": "fafac541-43c7-4dd2-9d9c-576ebd662849"
      },
      "outputs": [
        {
          "output_type": "stream",
          "name": "stdout",
          "text": [
            "[[1 0 0]\n",
            " [0 2 0]\n",
            " [0 0 3]]\n",
            "[1 2 3]\n"
          ]
        },
        {
          "output_type": "execute_result",
          "data": {
            "text/plain": [
              "array([1, 4, 9])"
            ]
          },
          "metadata": {},
          "execution_count": 15
        }
      ],
      "source": [
        "print(A)  # 1,2,3 along diagonal, 0 elsewhere\n",
        "print(v)  # 1,2,3\n",
        "# when multiplying a single vecor by a matrix line, the last index inside the single vector carries over multiple times.\n",
        "A @ v"
      ]
    },
    {
      "cell_type": "markdown",
      "metadata": {
        "id": "Lr7tyWnnpB7O"
      },
      "source": [
        "Matrix-matrix multiplication is possible with @, too.  This combines two matrices A and B into one that has the effect of doing one, then the other, when multiplied."
      ]
    },
    {
      "cell_type": "code",
      "execution_count": null,
      "metadata": {
        "colab": {
          "base_uri": "https://localhost:8080/"
        },
        "id": "XwnUqL5go9Od",
        "outputId": "93ffdb71-ddd7-4849-9ea9-81fc05cc96ac"
      },
      "outputs": [
        {
          "output_type": "execute_result",
          "data": {
            "text/plain": [
              "array([[ 1,  0,  0,  0],\n",
              "       [ 0,  4,  0,  0],\n",
              "       [ 0,  0,  9,  0],\n",
              "       [ 0,  0,  0, 16]])"
            ]
          },
          "metadata": {},
          "execution_count": 21
        }
      ],
      "source": [
        "A @ A"
      ]
    },
    {
      "cell_type": "markdown",
      "metadata": {
        "id": "Wxoh1B4dbXSo"
      },
      "source": [
        "It's very common to want to know the dimensions of an array of data - you may have just loaded the dataset without knowing how many rows of data are in it.  The shape *attribute* of an array (such as a matrix) is a *tuple* that tells you its dimensions.  (An attribute tells you something about the object it's attached to.  And a tuple is very much like a list, but different in ways I'll explain later.)"
      ]
    },
    {
      "cell_type": "code",
      "execution_count": null,
      "metadata": {
        "colab": {
          "base_uri": "https://localhost:8080/"
        },
        "id": "5d4pYDI1bXSo",
        "outputId": "69a238a8-16a9-45e8-fd20-69d126f8a055"
      },
      "outputs": [
        {
          "output_type": "stream",
          "name": "stdout",
          "text": [
            "(3, 3)\n",
            "(3,)\n"
          ]
        }
      ],
      "source": [
        "print(A.shape)  # Tuples: like lists, but use () instead of []\n",
        "print(v.shape)  # 1d outputs a comma to indicate it's still a tuple\n",
        "# prints in (row, column)"
      ]
    },
    {
      "cell_type": "markdown",
      "metadata": {
        "id": "epYArlRZpqmL"
      },
      "source": [
        "# Slicing\n",
        "\n",
        "One very convenient thing that you can do with numpy arrays (which you can also do with lists and strings) is \"slicing,\" or grabbing values between particular indices.  The syntax for a 1D array is my_array[first_included_index:first_excluded_index], so the second index isn't in the result."
      ]
    },
    {
      "cell_type": "markdown",
      "source": [
        "printing an array will not show commas"
      ],
      "metadata": {
        "id": "6waTZCWffu-z"
      }
    },
    {
      "cell_type": "code",
      "execution_count": null,
      "metadata": {
        "colab": {
          "base_uri": "https://localhost:8080/"
        },
        "id": "rSxYYddquY51",
        "outputId": "a029a922-f1d4-41c2-c641-8a8dc3c08c15"
      },
      "outputs": [
        {
          "output_type": "stream",
          "name": "stdout",
          "text": [
            "[6 7]\n"
          ]
        }
      ],
      "source": [
        "my_array = np.array([8, 6, 7, 5, 3, 0, 9])\n",
        "print(my_array[1:3]) # prints index 1 and 2, not 3"
      ]
    },
    {
      "cell_type": "code",
      "execution_count": null,
      "metadata": {
        "colab": {
          "base_uri": "https://localhost:8080/"
        },
        "id": "0ziUDMRvbXSp",
        "outputId": "981c90f5-7b70-4201-8cec-f5840264f49e"
      },
      "outputs": [
        {
          "output_type": "stream",
          "name": "stdout",
          "text": [
            "<class 'str'>\n",
            "fun\n",
            "['o', 'k']\n"
          ]
        }
      ],
      "source": [
        "# Slicing other data types\n",
        "#type function prints out data type\n",
        "my_string = \"dysfunctional\"\n",
        "print(type(my_string))\n",
        "print(my_string[3:6])\n",
        "my_list = ['j', 'o', 'k','e']\n",
        "print(my_list[1:3])"
      ]
    },
    {
      "cell_type": "markdown",
      "source": [
        "Numpy autoformats arrays based on number of dimentions , aligning the columns within each row."
      ],
      "metadata": {
        "id": "0FWkPlIxsJrK"
      }
    },
    {
      "cell_type": "code",
      "source": [
        "import numpy as np\n",
        "np.array([[1,2,3],[4,5,6],[7,8,9]])"
      ],
      "metadata": {
        "colab": {
          "base_uri": "https://localhost:8080/"
        },
        "id": "jlWlpwGtr1sd",
        "outputId": "3a94dc4e-89ba-4202-f1c9-2b7c31f913e6"
      },
      "execution_count": null,
      "outputs": [
        {
          "output_type": "execute_result",
          "data": {
            "text/plain": [
              "array([[1, 2, 3],\n",
              "       [4, 5, 6],\n",
              "       [7, 8, 9]])"
            ]
          },
          "metadata": {},
          "execution_count": 8
        }
      ]
    },
    {
      "cell_type": "code",
      "source": [
        "#Create a one-dimensional array from a list comprehension that produces the even integers 2 through 20\n",
        "import numpy as np\n",
        "# x for x in range() creates an array that contains every number from range(starting, until, by increments of)\n",
        "np.array([x for x in range(2, 21, 2)])"
      ],
      "metadata": {
        "colab": {
          "base_uri": "https://localhost:8080/"
        },
        "id": "Fd32Hxotsnj6",
        "outputId": "e2360872-182a-45bd-debb-804ce86c316f"
      },
      "execution_count": null,
      "outputs": [
        {
          "output_type": "execute_result",
          "data": {
            "text/plain": [
              "array([ 2,  4,  6,  8, 10, 12, 14, 16, 18, 20])"
            ]
          },
          "metadata": {},
          "execution_count": 16
        }
      ]
    },
    {
      "cell_type": "markdown",
      "metadata": {
        "id": "zSLrH-xeurVr"
      },
      "source": [
        "Leaving off the second number means all the rest of the indices will be included.  Leaving off the first means all elements before the index after the colon will be included."
      ]
    },
    {
      "cell_type": "code",
      "execution_count": null,
      "metadata": {
        "colab": {
          "base_uri": "https://localhost:8080/"
        },
        "id": "yhpBoMEgu9oq",
        "outputId": "18c798c5-13df-4c56-aed0-1b5ffabef76f"
      },
      "outputs": [
        {
          "output_type": "execute_result",
          "data": {
            "text/plain": [
              "array([6, 7, 5, 3, 0, 9])"
            ]
          },
          "metadata": {},
          "execution_count": 16
        }
      ],
      "source": [
        "my_array = np.array([8, 6, 7, 5, 3, 0, 9])\n",
        "my_array[1:]"
      ]
    },
    {
      "cell_type": "code",
      "execution_count": null,
      "metadata": {
        "colab": {
          "base_uri": "https://localhost:8080/"
        },
        "id": "oiZzX8O7vBHo",
        "outputId": "15b49eb4-d63f-418a-9786-b2741cac5929"
      },
      "outputs": [
        {
          "output_type": "execute_result",
          "data": {
            "text/plain": [
              "array([8, 6, 7])"
            ]
          },
          "metadata": {},
          "execution_count": 15
        }
      ],
      "source": [
        "my_array [:3]"
      ]
    },
    {
      "cell_type": "markdown",
      "metadata": {
        "id": "uGkjiCT7vHef"
      },
      "source": [
        "This all works in a similar way for the 2D case.  Slicing 2D arrays is very common when dealing with datasets.  You may choose to be interested in only certain rows, representing certain datapoints, or certain columns, representing certain features.\n",
        "\n",
        "One detail is that the ranges are comma-separated.  (You might be tempted to use double-square-brackets if you thought of them as list-of-lists.)"
      ]
    },
    {
      "cell_type": "code",
      "execution_count": null,
      "metadata": {
        "colab": {
          "base_uri": "https://localhost:8080/"
        },
        "id": "zB_zdMcnvNot",
        "outputId": "4e3e42e2-8c33-4f0f-ae00-d0532b2744ad"
      },
      "outputs": [
        {
          "output_type": "stream",
          "name": "stdout",
          "text": [
            "42.3\n",
            "71.1\n",
            "92.0\n",
            "40.7\n",
            "70.0\n",
            "85.0\n",
            "47.6\n",
            "122.0\n",
            "82.0\n",
            "[42.3, 71.1, 92.0, 40.7, 70.0, 85.0, 47.6, 122.0, 82.0]\n",
            "[[ 40.7  70. ]\n",
            " [ 47.6 122. ]]\n"
          ]
        }
      ],
      "source": [
        "0# Could suppose this is data where each row is an observation\n",
        "# of latitude, longitude, and temperature\n",
        "my_matrix = np.array([[42.3,71.1,92],[40.7,70.0,85],[47.6,122.0,82]])\n",
        "# Now we decide to drop the first datapoint\n",
        "# and only care about latitude/longitude\n",
        "# the first list argument iterates through the outside list and the second one iterates through the inside list\n",
        "two_by_two_square = my_matrix[1:,:2]\n",
        "x = []\n",
        "for i in my_matrix:\n",
        "  for j in i:\n",
        "    print(j)\n",
        "    x.append(j)\n",
        "print(x)\n",
        "print(two_by_two_square)"
      ]
    },
    {
      "cell_type": "markdown",
      "metadata": {
        "id": "09tFWGMyv-z8"
      },
      "source": [
        "A colon alone refers to grabbing all rows or columns."
      ]
    },
    {
      "cell_type": "code",
      "execution_count": null,
      "metadata": {
        "colab": {
          "base_uri": "https://localhost:8080/"
        },
        "id": "o2WDauuUwCf9",
        "outputId": "5a97318f-0f80-418f-c3f1-df50213fc9b5"
      },
      "outputs": [
        {
          "output_type": "stream",
          "name": "stdout",
          "text": [
            "[[ 42.3  71.1]\n",
            " [ 40.7  70. ]\n",
            " [ 47.6 122. ]]\n"
          ]
        }
      ],
      "source": [
        "no_last_column = my_matrix[:,:2] # no temperature\n",
        "print(no_last_column)"
      ]
    },
    {
      "cell_type": "markdown",
      "metadata": {
        "id": "X9PfuVnewsDk"
      },
      "source": [
        "Here's an example with a real dataset."
      ]
    },
    {
      "cell_type": "code",
      "execution_count": null,
      "metadata": {
        "colab": {
          "base_uri": "https://localhost:8080/"
        },
        "id": "mzurSnW6bXSs",
        "outputId": "2758f343-358a-4152-e96a-4a14eb92734c"
      },
      "outputs": [
        {
          "output_type": "stream",
          "name": "stdout",
          "text": [
            "[1.799e+01 1.038e+01 1.228e+02 1.001e+03 1.184e-01 2.776e-01 3.001e-01\n",
            " 1.471e-01 2.419e-01 7.871e-02 1.095e+00 9.053e-01 8.589e+00 1.534e+02\n",
            " 6.399e-03 4.904e-02 5.373e-02 1.587e-02 3.003e-02 6.193e-03 2.538e+01\n",
            " 1.733e+01 1.846e+02 2.019e+03 1.622e-01 6.656e-01 7.119e-01 2.654e-01\n",
            " 4.601e-01 1.189e-01]\n"
          ]
        }
      ],
      "source": [
        "import sklearn.datasets\n",
        "\n",
        "cancer_data = sklearn.datasets.load_breast_cancer()\n",
        "# Rows are individual cancer instance features, like size of tumor\n",
        "one_record = cancer_data.data[0,:]  # Get one cancer record of the list in index zero of the list of lists\n",
        "print(one_record)"
      ]
    },
    {
      "cell_type": "code",
      "execution_count": null,
      "metadata": {
        "colab": {
          "base_uri": "https://localhost:8080/"
        },
        "id": "1vW99RhhbXSs",
        "outputId": "46763a11-0c37-433f-dd69-f3afe7885f55"
      },
      "outputs": [
        {
          "output_type": "stream",
          "name": "stdout",
          "text": [
            "[[1.799e+01 1.038e+01 1.228e+02 1.001e+03 1.184e-01]\n",
            " [2.057e+01 1.777e+01 1.329e+02 1.326e+03 8.474e-02]\n",
            " [1.969e+01 2.125e+01 1.300e+02 1.203e+03 1.096e-01]\n",
            " ...\n",
            " [1.660e+01 2.808e+01 1.083e+02 8.581e+02 8.455e-02]\n",
            " [2.060e+01 2.933e+01 1.401e+02 1.265e+03 1.178e-01]\n",
            " [7.760e+00 2.454e+01 4.792e+01 1.810e+02 5.263e-02]]\n"
          ]
        }
      ],
      "source": [
        "# Use just five features of the data and ignore the rest,: means from all the lists inside the cancer list, and 0:5 means\n",
        "#the just takes 5 columns of each the rows\n",
        "just_five_features = cancer_data.data[:,0:5]\n",
        "print(just_five_features)"
      ]
    },
    {
      "cell_type": "markdown",
      "metadata": {
        "id": "x2djMILqwPIg"
      },
      "source": [
        "# A useful initializer\n",
        "\n",
        "If your code is going to count things, it's common to want to create a matrix or vector that is zero to start, so that other values can be added to this.  The zeros() function handily creates matrices that are all zeros, of arbitrary size."
      ]
    },
    {
      "cell_type": "markdown",
      "metadata": {
        "id": "7Y-g5u7vbXSu"
      },
      "source": [
        "The only confusing thing is that zeros() requires an extra set of parentheses from what you'd expect.  This is because it technically only takes one argument, a *tuple* with the row and column count contained in parentheses.  Again, we'll cover tuples in more detail next time."
      ]
    },
    {
      "cell_type": "code",
      "execution_count": null,
      "metadata": {
        "colab": {
          "base_uri": "https://localhost:8080/"
        },
        "id": "3QqAeOuOxPGV",
        "outputId": "08e95515-bad9-447b-e8c6-68f833a33c28"
      },
      "outputs": [
        {
          "output_type": "stream",
          "name": "stdout",
          "text": [
            "[[0. 0. 0.]\n",
            " [0. 0. 0.]]\n"
          ]
        }
      ],
      "source": [
        "print(np.zeros((2,3))) # create a 2x3 matrix of zeros"
      ]
    },
    {
      "cell_type": "markdown",
      "metadata": {
        "id": "DlgVpI1g0ec6"
      },
      "source": [
        "There are many other numpy functions - you can browse https://numpy.org/doc/stable/reference/ to see what's available."
      ]
    },
    {
      "cell_type": "markdown",
      "metadata": {
        "id": "eduRrULZbXSv"
      },
      "source": [
        "# Exercise:  Slicing (2 min)\n",
        "\n",
        "Using the cancer data defined above, store the first 3 columns of the first 100 datapoints in the variable cancer_subset.  Verify that your data is the right size with .shape."
      ]
    },
    {
      "cell_type": "code",
      "execution_count": null,
      "metadata": {
        "id": "lqOBxXUAbXSw",
        "colab": {
          "base_uri": "https://localhost:8080/"
        },
        "outputId": "e17f8db4-4ade-4b89-fb06-4862c5aec0ce"
      },
      "outputs": [
        {
          "output_type": "stream",
          "name": "stdout",
          "text": [
            "[[ 17.99   10.38  122.8  ]\n",
            " [ 20.57   17.77  132.9  ]\n",
            " [ 19.69   21.25  130.   ]\n",
            " [ 11.42   20.38   77.58 ]\n",
            " [ 20.29   14.34  135.1  ]\n",
            " [ 12.45   15.7    82.57 ]\n",
            " [ 18.25   19.98  119.6  ]\n",
            " [ 13.71   20.83   90.2  ]\n",
            " [ 13.     21.82   87.5  ]\n",
            " [ 12.46   24.04   83.97 ]\n",
            " [ 16.02   23.24  102.7  ]\n",
            " [ 15.78   17.89  103.6  ]\n",
            " [ 19.17   24.8   132.4  ]\n",
            " [ 15.85   23.95  103.7  ]\n",
            " [ 13.73   22.61   93.6  ]\n",
            " [ 14.54   27.54   96.73 ]\n",
            " [ 14.68   20.13   94.74 ]\n",
            " [ 16.13   20.68  108.1  ]\n",
            " [ 19.81   22.15  130.   ]\n",
            " [ 13.54   14.36   87.46 ]\n",
            " [ 13.08   15.71   85.63 ]\n",
            " [  9.504  12.44   60.34 ]\n",
            " [ 15.34   14.26  102.5  ]\n",
            " [ 21.16   23.04  137.2  ]\n",
            " [ 16.65   21.38  110.   ]\n",
            " [ 17.14   16.4   116.   ]\n",
            " [ 14.58   21.53   97.41 ]\n",
            " [ 18.61   20.25  122.1  ]\n",
            " [ 15.3    25.27  102.4  ]\n",
            " [ 17.57   15.05  115.   ]\n",
            " [ 18.63   25.11  124.8  ]\n",
            " [ 11.84   18.7    77.93 ]\n",
            " [ 17.02   23.98  112.8  ]\n",
            " [ 19.27   26.47  127.9  ]\n",
            " [ 16.13   17.88  107.   ]\n",
            " [ 16.74   21.59  110.1  ]\n",
            " [ 14.25   21.72   93.63 ]\n",
            " [ 13.03   18.42   82.61 ]\n",
            " [ 14.99   25.2    95.54 ]\n",
            " [ 13.48   20.82   88.4  ]\n",
            " [ 13.44   21.58   86.18 ]\n",
            " [ 10.95   21.35   71.9  ]\n",
            " [ 19.07   24.81  128.3  ]\n",
            " [ 13.28   20.28   87.32 ]\n",
            " [ 13.17   21.81   85.42 ]\n",
            " [ 18.65   17.6   123.7  ]\n",
            " [  8.196  16.84   51.71 ]\n",
            " [ 13.17   18.66   85.98 ]\n",
            " [ 12.05   14.63   78.04 ]\n",
            " [ 13.49   22.3    86.91 ]\n",
            " [ 11.76   21.6    74.72 ]\n",
            " [ 13.64   16.34   87.21 ]\n",
            " [ 11.94   18.24   75.71 ]\n",
            " [ 18.22   18.7   120.3  ]\n",
            " [ 15.1    22.02   97.26 ]\n",
            " [ 11.52   18.75   73.34 ]\n",
            " [ 19.21   18.57  125.5  ]\n",
            " [ 14.71   21.59   95.55 ]\n",
            " [ 13.05   19.31   82.61 ]\n",
            " [  8.618  11.79   54.34 ]\n",
            " [ 10.17   14.88   64.55 ]\n",
            " [  8.598  20.98   54.66 ]\n",
            " [ 14.25   22.15   96.42 ]\n",
            " [  9.173  13.86   59.2  ]\n",
            " [ 12.68   23.84   82.69 ]\n",
            " [ 14.78   23.94   97.4  ]\n",
            " [  9.465  21.01   60.11 ]\n",
            " [ 11.31   19.04   71.8  ]\n",
            " [  9.029  17.33   58.79 ]\n",
            " [ 12.78   16.49   81.37 ]\n",
            " [ 18.94   21.31  123.6  ]\n",
            " [  8.888  14.64   58.79 ]\n",
            " [ 17.2    24.52  114.2  ]\n",
            " [ 13.8    15.79   90.43 ]\n",
            " [ 12.31   16.52   79.19 ]\n",
            " [ 16.07   19.65  104.1  ]\n",
            " [ 13.53   10.94   87.91 ]\n",
            " [ 18.05   16.15  120.2  ]\n",
            " [ 20.18   23.97  143.7  ]\n",
            " [ 12.86   18.     83.19 ]\n",
            " [ 11.45   20.97   73.81 ]\n",
            " [ 13.34   15.86   86.49 ]\n",
            " [ 25.22   24.91  171.5  ]\n",
            " [ 19.1    26.29  129.1  ]\n",
            " [ 12.     15.65   76.95 ]\n",
            " [ 18.46   18.52  121.1  ]\n",
            " [ 14.48   21.46   94.25 ]\n",
            " [ 19.02   24.59  122.   ]\n",
            " [ 12.36   21.8    79.78 ]\n",
            " [ 14.64   15.24   95.77 ]\n",
            " [ 14.62   24.02   94.57 ]\n",
            " [ 15.37   22.76  100.2  ]\n",
            " [ 13.27   14.76   84.74 ]\n",
            " [ 13.45   18.3    86.6  ]\n",
            " [ 15.06   19.83  100.3  ]\n",
            " [ 20.26   23.03  132.4  ]\n",
            " [ 12.18   17.84   77.79 ]\n",
            " [  9.787  19.94   62.11 ]\n",
            " [ 11.6    12.84   74.34 ]\n",
            " [ 14.42   19.77   94.48 ]]\n"
          ]
        },
        {
          "output_type": "execute_result",
          "data": {
            "text/plain": [
              "(100, 3)"
            ]
          },
          "metadata": {},
          "execution_count": 40
        }
      ],
      "source": [
        "# TODO\n",
        "import sklearn.datasets\n",
        "\n",
        "cancer_data = sklearn.datasets.load_breast_cancer()\n",
        "stored = cancer_data.data[:100,0:3]\n",
        "print(stored)\n",
        "#.shape tells yout he rows, columns\n",
        "stored.shape"
      ]
    },
    {
      "cell_type": "markdown",
      "metadata": {
        "id": "mNmqPole0QcS"
      },
      "source": [
        "# Matplotlib:  2D line and scatter plots\n",
        "\n",
        "Matplotlib's plt.plot() function has a great deal of functionality.  In its most basic form, it takes a list of $n$ $x$ coordinates and a list of $n$ $y$ coordinates, and it plots lines connecting the implied points $(x_0,y_0),\\ldots,(x_{n-1},y_{n-1})$."
      ]
    },
    {
      "cell_type": "code",
      "execution_count": null,
      "metadata": {
        "id": "_U55H4w4bXSx",
        "colab": {
          "base_uri": "https://localhost:8080/",
          "height": 447
        },
        "outputId": "6cafa0a0-2597-426a-a2c2-419fd98280f0"
      },
      "outputs": [
        {
          "output_type": "execute_result",
          "data": {
            "text/plain": [
              "[<matplotlib.lines.Line2D at 0x7f1eba8b9600>]"
            ]
          },
          "metadata": {},
          "execution_count": 44
        },
        {
          "output_type": "display_data",
          "data": {
            "text/plain": [
              "<Figure size 640x480 with 1 Axes>"
            ],
            "image/png": "[encoded data removed]"
          },
          "metadata": {}
        }
      ],
      "source": [
        "import matplotlib.pyplot as plt\n",
        "# in this case, the coordinates are (1,1), (2,4), (3,9)\n",
        "x = [1, 2, 3]\n",
        "y = [1, 4, 9]\n",
        "plt.plot(x,y)"
      ]
    },
    {
      "cell_type": "markdown",
      "metadata": {
        "id": "PMexun2PbXSz"
      },
      "source": [
        "If the points are represented as a list-of-lists, you may need to slice to grab the first column's x coordinates and the second column's y coordinates."
      ]
    },
    {
      "cell_type": "code",
      "execution_count": null,
      "metadata": {
        "id": "M4lqP-IK1YI5",
        "colab": {
          "base_uri": "https://localhost:8080/",
          "height": 498
        },
        "outputId": "e562e6e5-919d-4b70-ad11-370cccb5e5cb"
      },
      "outputs": [
        {
          "output_type": "stream",
          "name": "stdout",
          "text": [
            "[[2 1]\n",
            " [3 4]\n",
            " [5 6]]\n"
          ]
        },
        {
          "output_type": "execute_result",
          "data": {
            "text/plain": [
              "[<matplotlib.lines.Line2D at 0x7f1eb85da020>]"
            ]
          },
          "metadata": {},
          "execution_count": 45
        },
        {
          "output_type": "display_data",
          "data": {
            "text/plain": [
              "<Figure size 640x480 with 1 Axes>"
            ],
            "image/png": "[encoded data removed]"
          },
          "metadata": {}
        }
      ],
      "source": [
        "my_points = np.array([[2,1], [3,4], [5,6]]) # Each list is a point\n",
        "print(my_points)\n",
        "#my_points[:,0] is going into the WHOLE my_points array and taking ALL the x values which is at index 0 for each list.\n",
        "#my_points[:,1] is going into th WHOLE my_points array and taking ALL the y values which is at index 1 of each list\n",
        "plt.plot(my_points[:,0], my_points[:,1])    # Slice to get x values separate from y values"
      ]
    },
    {
      "cell_type": "markdown",
      "metadata": {
        "id": "5CQL9Cxa2ict"
      },
      "source": [
        "A scatterplot is achievable with plt.plot() by just handing it an 'o' (lowercase o) as a third argument.  You can also hand it a color abbreviation as part of the same string to plot in a different color."
      ]
    },
    {
      "cell_type": "code",
      "execution_count": null,
      "metadata": {
        "id": "QnNs7BN827Y6",
        "colab": {
          "base_uri": "https://localhost:8080/",
          "height": 447
        },
        "outputId": "2e1d74ab-ee95-476d-dcc9-81903a8fc043"
      },
      "outputs": [
        {
          "output_type": "execute_result",
          "data": {
            "text/plain": [
              "[<matplotlib.lines.Line2D at 0x7f1eb86c5750>]"
            ]
          },
          "metadata": {},
          "execution_count": 47
        },
        {
          "output_type": "display_data",
          "data": {
            "text/plain": [
              "<Figure size 640x480 with 1 Axes>"
            ],
            "image/png": "[encoded data removed]"
          },
          "metadata": {}
        }
      ],
      "source": [
        "plt.plot(my_points[:,0], my_points[:,1],'ro') # 'r' is for red, 'o' is for circles o is for scatterplots"
      ]
    },
    {
      "cell_type": "markdown",
      "metadata": {
        "id": "FjEce_aPbXS1"
      },
      "source": [
        "Here's a plot of the distances of the planets from the sun.  (We'll see how to automatically generate that x list in just a bit.)"
      ]
    },
    {
      "cell_type": "code",
      "execution_count": null,
      "metadata": {
        "id": "ssKNu-xibXS1",
        "colab": {
          "base_uri": "https://localhost:8080/",
          "height": 450
        },
        "outputId": "0ccb76de-339a-491a-cd7c-76d0d13d5edc"
      },
      "outputs": [
        {
          "output_type": "execute_result",
          "data": {
            "text/plain": [
              "[<matplotlib.lines.Line2D at 0x7f1eb83dc490>]"
            ]
          },
          "metadata": {},
          "execution_count": 55
        },
        {
          "output_type": "display_data",
          "data": {
            "text/plain": [
              "<Figure size 640x480 with 1 Axes>"
            ],
            "image/png": "[encoded data removed]"
          },
          "metadata": {}
        }
      ],
      "source": [
        "import matplotlib.pyplot as plt\n",
        "import numpy as np\n",
        "distances_millions_miles = [35, 67, 93, 142, 484, 889, 1790, 2880]\n",
        "\n",
        "plt.plot([1,2,3,4,5,6,7,8], distances_millions_miles, 'o')"
      ]
    },
    {
      "cell_type": "markdown",
      "metadata": {
        "id": "tb4Uh6jb3HFG"
      },
      "source": [
        "If want to plot smooth lines for a curved function, we'd probably want to evaluate at a lot of points.  matplotlib connects them with straight lines, but if they're close together, we get an illusion of a smooth curve.\n",
        "\n",
        "np.linspace(begin,end,points) spaces *points* points evenly between *begin* and *end*.  If we pick a *points* value large enough, we can make a line graph that looks as though it curves."
      ]
    },
    {
      "cell_type": "code",
      "execution_count": null,
      "metadata": {
        "id": "-eio5Hje3rPa",
        "colab": {
          "base_uri": "https://localhost:8080/",
          "height": 447
        },
        "outputId": "74caeee3-466b-48c8-fae2-3411b274ead3"
      },
      "outputs": [
        {
          "output_type": "execute_result",
          "data": {
            "text/plain": [
              "[<matplotlib.lines.Line2D at 0x789b97488730>]"
            ]
          },
          "metadata": {},
          "execution_count": 96
        },
        {
          "output_type": "display_data",
          "data": {
            "text/plain": [
              "<Figure size 640x480 with 1 Axes>"
            ],
            "image/png": "[encoded data removed]"
          },
          "metadata": {}
        }
      ],
      "source": [
        "#100 evenly spaced points between 1 an 10, the more evenly spaced the more it resembles the function.\n",
        "# linspace tells how evenly spaced it is between 2 intervals\n",
        "xpoints = np.linspace(0, 10, 100)\n",
        "ypoints = xpoints ** 2 + 1\n",
        "plt.plot(xpoints,ypoints)"
      ]
    },
    {
      "cell_type": "markdown",
      "metadata": {
        "id": "A-LsCFLCFWuu"
      },
      "source": [
        "You can plot multiple plots on top of each other, such as the raw scatter data as well as a fit, by just plotting in the same code box."
      ]
    },
    {
      "cell_type": "code",
      "execution_count": null,
      "metadata": {
        "id": "VEm1t681Fpnj",
        "colab": {
          "base_uri": "https://localhost:8080/",
          "height": 447
        },
        "outputId": "dcfd3c68-71c1-4744-964a-26234ec30904"
      },
      "outputs": [
        {
          "output_type": "execute_result",
          "data": {
            "text/plain": [
              "[<matplotlib.lines.Line2D at 0x7f1eb800e680>]"
            ]
          },
          "metadata": {},
          "execution_count": 63
        },
        {
          "output_type": "display_data",
          "data": {
            "text/plain": [
              "<Figure size 640x480 with 1 Axes>"
            ],
            "image/png": "[encoded data removed]"
          },
          "metadata": {}
        }
      ],
      "source": [
        "plt.plot(my_points[:,0], my_points[:,1],'ro')\n",
        "#myfit_x is the x values for the blue line, it indicates x-axis goes from 1 to 5\n",
        "#myfit_y is the y values for the blue line, it indicates the y-axis goes from 1.5 to 5.5\n",
        "myfit_x = np.linspace(1,5,100)\n",
        "myfit_y = np.linspace(1.5, 5.5, 100)\n",
        "plt.plot(myfit_x,myfit_y)"
      ]
    },
    {
      "cell_type": "markdown",
      "metadata": {
        "id": "IkMgH_jDGdWR"
      },
      "source": [
        "# 3D scatterplots\n",
        "\n",
        "We can also make 3D plots with matplotlib.  These can get somewhat complex to make, so I just mostly want you to know the option is there, in case you want to research it further.\n"
      ]
    },
    {
      "cell_type": "code",
      "execution_count": null,
      "metadata": {
        "id": "q8o0qrZFHszL",
        "colab": {
          "base_uri": "https://localhost:8080/",
          "height": 432
        },
        "outputId": "0c8fb438-2c9c-46e9-9a06-da11fa892e7a"
      },
      "outputs": [
        {
          "output_type": "execute_result",
          "data": {
            "text/plain": [
              "<mpl_toolkits.mplot3d.art3d.Path3DCollection at 0x789b98883400>"
            ]
          },
          "metadata": {},
          "execution_count": 44
        },
        {
          "output_type": "display_data",
          "data": {
            "text/plain": [
              "<Figure size 640x480 with 1 Axes>"
            ],
            "image/png": "[encoded data removed]"
          },
          "metadata": {}
        }
      ],
      "source": [
        "# Boilerplate to set up ax\n",
        "fig = plt.figure()\n",
        "ax = fig.add_subplot(projection='3d')\n",
        "\n",
        "x = [1, 2, 3, 4, 5, 6]\n",
        "y = [1, 1, 2, 2, 2, 3]\n",
        "z = [1, 1, 2, 2, 3, 3]\n",
        "ax.scatter(x,y,z)\n"
      ]
    },
    {
      "cell_type": "markdown",
      "metadata": {
        "id": "0nB4VIJpLgi3"
      },
      "source": [
        "# Exercise (4 min)\n",
        "\n",
        "*At home, as an exercise, Cynthia tried plotting some of the numbers the man had given her.  The numbers were quite large, and she realized suddenly that she was looking at **world** population data.  But if that was true, the projections for the next two years were indeed quite dire...*\n",
        "\n",
        "Use the data in the next code box to plot year on the x-axis and population on the y-axis.  Plot your datapoints as both scatterplot and line plot on the same plot.\n",
        "\n",
        "*Data source for 2018-2023: https://www.worldometers.info/world-population/world-population-by-year/*"
      ]
    },
    {
      "cell_type": "code",
      "execution_count": null,
      "metadata": {
        "id": "CSzt56OUMzEB",
        "colab": {
          "base_uri": "https://localhost:8080/",
          "height": 462
        },
        "outputId": "e9ff1a82-f43a-4289-b02d-9562ccdb61a4"
      },
      "outputs": [
        {
          "output_type": "execute_result",
          "data": {
            "text/plain": [
              "[<matplotlib.lines.Line2D at 0x7f1eb7a07ca0>]"
            ]
          },
          "metadata": {},
          "execution_count": 71
        },
        {
          "output_type": "display_data",
          "data": {
            "text/plain": [
              "<Figure size 640x480 with 1 Axes>"
            ],
            "image/png": "[encoded data removed]"
          },
          "metadata": {}
        }
      ],
      "source": [
        "years =[2018, 2019, 2020, 2021, 2022, 2023, 2024, 2025]\n",
        "population = [7683789828,7764951032,7840952880,7909295151,7975105156,8045311447, 6034201548, 4023156835]\n",
        "plt.plot(years, population, 'o')\n",
        "plt.plot(years, population)\n",
        "\n",
        "# TODO"
      ]
    },
    {
      "cell_type": "code",
      "execution_count": null,
      "metadata": {
        "id": "wtZAVmawbXS6",
        "colab": {
          "base_uri": "https://localhost:8080/",
          "height": 174
        },
        "outputId": "4764fbc7-f3c0-4b83-ed94-a57f0ac1d90f"
      },
      "outputs": [
        {
          "output_type": "error",
          "ename": "NameError",
          "evalue": "ignored",
          "traceback": [
            "\u001b[0;31m---------------------------------------------------------------------------\u001b[0m",
            "\u001b[0;31mNameError\u001b[0m                                 Traceback (most recent call last)",
            "\u001b[0;32m<ipython-input-59-dd7530a7a1af>\u001b[0m in \u001b[0;36m<cell line: 1>\u001b[0;34m()\u001b[0m\n\u001b[0;32m----> 1\u001b[0;31m \u001b[0mplt\u001b[0m\u001b[0;34m.\u001b[0m\u001b[0mplot\u001b[0m\u001b[0;34m(\u001b[0m\u001b[0myears\u001b[0m\u001b[0;34m[\u001b[0m\u001b[0;34m:\u001b[0m\u001b[0;34m,\u001b[0m\u001b[0;36m0\u001b[0m\u001b[0;34m]\u001b[0m\u001b[0;34m,\u001b[0m \u001b[0mpopulation\u001b[0m\u001b[0;34m[\u001b[0m\u001b[0;34m:\u001b[0m\u001b[0;34m,\u001b[0m\u001b[0;36m1\u001b[0m\u001b[0;34m]\u001b[0m\u001b[0;34m)\u001b[0m\u001b[0;34m\u001b[0m\u001b[0;34m\u001b[0m\u001b[0m\n\u001b[0m",
            "\u001b[0;31mNameError\u001b[0m: name 'years' is not defined"
          ]
        }
      ],
      "source": []
    }
  ],
  "metadata": {
    "celltoolbar": "Slideshow",
    "colab": {
      "provenance": [],
      "include_colab_link": true
    },
    "kernelspec": {
      "display_name": "Python 3",
      "language": "python",
      "name": "python3"
    },
    "language_info": {
      "codemirror_mode": {
        "name": "ipython",
        "version": 3
      },
      "file_extension": ".py",
      "mimetype": "text/x-python",
      "name": "python",
      "nbconvert_exporter": "python",
      "pygments_lexer": "ipython3",
      "version": "3.8.8"
    },
    "rise": {
      "scroll": true
    }
  },
  "nbformat": 4,
  "nbformat_minor": 0
}