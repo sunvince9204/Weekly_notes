{
  "cells": [
    {
      "cell_type": "markdown",
      "metadata": {
        "id": "view-in-github",
        "colab_type": "text"
      },
      "source": [
        "<a href=\"https://colab.research.google.com/github/sunvince9204/Weekly_notes/blob/main/Lecture7and8Functions_nosol_1.ipynb\" target=\"_parent\"><img src=\"https://colab.research.google.com/assets/colab-badge.svg\" alt=\"Open In Colab\"/></a>"
      ]
    },
    {
      "cell_type": "markdown",
      "metadata": {
        "id": "VwoSdLX6dhMW"
      },
      "source": [
        "# Functions"
      ]
    },
    {
      "cell_type": "markdown",
      "metadata": {
        "id": "UADsvDL4dhMa"
      },
      "source": [
        "*Cynthia blinked in surprise at her screen.  The brightened image was a map, clearly showing Kinshasa, Democratic Republic of Congo.  At the bottom of the image was the message, in Times New Roman, \"If you want to help, come.\"*\n",
        "\n",
        "*Well, that was exciting.  Someone in Kinshasa was broadcasting a message to come, to anyone clever enough to decipher it.  Not just anyone - a **data scientist** clever enough.  How could she pass that up?*\n",
        "\n",
        "*But - alone?  Maybe she could get her friend Kathleen to come as well.  \"Hi, I'm going on a secret mission to the DRC\" may not be the most convincing opener, though.  She should send her code, she decided - the code she used to decipher the image.*\n",
        "\n",
        "*Was that code really in a state to be used by somebody else, though?  She decided she'd clean the code up a little before sending it to Kathleen - by breaking it into functions.*"
      ]
    },
    {
      "cell_type": "markdown",
      "metadata": {
        "id": "1f1k_20DdhMb"
      },
      "source": [
        "## What is a function?\n",
        "\n",
        "A function is some code that takes some inputs (arguments) and calculates a value (the return value).  It's essentially a reusable tool in your code.  Sometimes you'll use the tools of others, by using functions from other modules; and sometimes, you'll make your own tools.\n",
        "\n",
        "Functions organize code, make it more testable, and can reduce the overall amount of code that needs to be written."
      ]
    },
    {
      "cell_type": "markdown",
      "metadata": {
        "id": "te9Eonp2dhMc"
      },
      "source": [
        "When you write a function, you state the arguments (input) you expect, then write the body of the function that calculates the value, then you write the return value.  Here's a function that appends an s to its argument."
      ]
    },
    {
      "cell_type": "code",
      "execution_count": null,
      "metadata": {
        "id": "FehRqvpMdhMc"
      },
      "outputs": [],
      "source": [
        "def add_an_s(string):\n",
        "    new_string = string + 's'\n",
        "    return new_string\n",
        "\n",
        "add_an_s('example')"
      ]
    },
    {
      "cell_type": "markdown",
      "metadata": {
        "id": "nldGwUuWyiyg"
      },
      "source": [
        "## Why functions?"
      ]
    },
    {
      "cell_type": "markdown",
      "metadata": {
        "id": "2GHrr4ThdhMe"
      },
      "source": [
        "Without functions, if you want to do the same thing a little bit differently elsewhere in your code, you have to write it all over again.  This makes the code longer and more bug-prone, because you might make a mistake in copying or changing the code.  Functions let you reuse code in a more maintainable way.\n"
      ]
    },
    {
      "cell_type": "markdown",
      "metadata": {
        "id": "Z6MYcRwzdhMf"
      },
      "source": [
        "Another benefit of functions is that they make your code much more readable.  And this, in turn, helps you catch bugs.  A program for analyzing customer records may read at the top level:\n"
      ]
    },
    {
      "cell_type": "code",
      "execution_count": null,
      "metadata": {
        "id": "8SNbIIDodhMf"
      },
      "outputs": [],
      "source": [
        "# Not meant to be actually run - we didn't define the functions\n",
        "records = read_customer_data('input.csv')\n",
        "sales = 0\n",
        "purchase_counts = []\n",
        "s_names = []\n",
        "for record in records:\n",
        "    name, purchase_list, sale_info = parse_record(record)\n",
        "    s_names.append(standardize_name(name))\n",
        "    sales = update_total_sales(sales, sale_info)\n",
        "    update_purchase_counts(purchase_counts, purchase_list)\n",
        "write_to_file(s_names, purchase_counts, sales, 'output.csv')"
      ]
    },
    {
      "cell_type": "markdown",
      "metadata": {
        "id": "9ZlvNMBddhMf"
      },
      "source": [
        "Each of the functions mentioned in this code could be tested separately, and it's easy to find the relevant code if you want to improve something."
      ]
    },
    {
      "cell_type": "markdown",
      "metadata": {
        "id": "GtQWS8vMdhMg"
      },
      "source": [
        "\n",
        "We see function-like instructions in a lot of places outside computer science and data science.  Recipes may include sub-recipes - for the special sauce, for example.  Crochet and knitting instructions sometimes give little subroutines that should be repeated.  When drawing a person, you might engage in a special procedure for drawing the face.  Everywhere you see instructions, you might see subsets of instructions that are kind of like functions."
      ]
    },
    {
      "cell_type": "markdown",
      "metadata": {
        "id": "8dXb8FhB16-s"
      },
      "source": [
        "# Parts of a function definition in Python"
      ]
    },
    {
      "cell_type": "code",
      "execution_count": null,
      "metadata": {
        "id": "AbY6iFQyye7r"
      },
      "outputs": [],
      "source": [
        "def add_two(my_number):\n",
        "  # Adds two to the argument.\n",
        "  return my_number + 2"
      ]
    },
    {
      "cell_type": "markdown",
      "metadata": {
        "id": "dFXqRZBu2hLf"
      },
      "source": [
        "* def add_two(mynumber): indicates we're defining the add_two function, and that it should take a single argument my_number.  (This line is called the function \"header.\")\n",
        "\n",
        "* It's typical to add a comment after the function header that describes what the function does.\n",
        "\n",
        "* The lines that follow are indented and do some computation with the arguments.\n",
        "\n",
        "* The instruction \"return [value]\" defines what the function will evaluate to when it is called."
      ]
    },
    {
      "cell_type": "code",
      "execution_count": null,
      "metadata": {
        "id": "HtoB-teNdhMh",
        "outputId": "500badc5-f3f6-42be-fe55-5200361259e0"
      },
      "outputs": [
        {
          "data": {
            "text/plain": [
              "4"
            ]
          },
          "execution_count": 12,
          "metadata": {},
          "output_type": "execute_result"
        }
      ],
      "source": [
        "add_two(2)"
      ]
    },
    {
      "cell_type": "markdown",
      "metadata": {
        "id": "IQWxiuID3_id"
      },
      "source": [
        "Let's do another example with more arguments."
      ]
    },
    {
      "cell_type": "code",
      "execution_count": null,
      "metadata": {
        "id": "YNFIpUNk4E56"
      },
      "outputs": [],
      "source": [
        "def count_matches(to_match, my_list):\n",
        "  # Counts how many times to_match appears in my_list\n",
        "  count = 0\n",
        "  for m in my_list:\n",
        "    if to_match == m:\n",
        "      count += 1\n",
        "  return count\n",
        "\n",
        "print(count_matches(5, [5, 6, 7, 5]))\n",
        "print(count_matches(\"foo\", [\"foo\",\"bar\",\"baz\"]))"
      ]
    },
    {
      "cell_type": "markdown",
      "metadata": {
        "id": "rVUh7V7q5FSg"
      },
      "source": [
        "* This function has two arguments because it needs to know two things:  what to match, and the list to look in.\n",
        "\n",
        "* Notice how there's a variable \"count\" that is intended from the beginning to be the return value.\n",
        "\n",
        "* Notice how functions can still contain indentation that reflects their structure, despite everything being indented for the function."
      ]
    },
    {
      "cell_type": "markdown",
      "metadata": {
        "id": "V4VibxpOdhMj"
      },
      "source": [
        "If a sequence of steps appears repeatedly in the code, that means those steps are a prime candidate for a function - although sometimes functions may exist just to organize the code."
      ]
    },
    {
      "cell_type": "code",
      "execution_count": null,
      "metadata": {
        "id": "5cH0wpvFdhMk",
        "outputId": "bba02d90-cf1d-4791-91de-1d8ac48a5fe5"
      },
      "outputs": [
        {
          "name": "stdout",
          "output_type": "stream",
          "text": [
            "-9.39675922357377\n",
            "-19.953049685608025\n",
            "-33.893689050578544\n"
          ]
        }
      ],
      "source": [
        "def percent_gain(start, finish):\n",
        "    return (finish-start)/start * 100\n",
        "# Dow Industrial Average gains from Jan 3 2022 to Jan 3 2023\n",
        "print(percent_gain(36585.06, 33147.25))\n",
        "# S&P 500 Jan 3 2022 to Jan 3 2023\n",
        "print(percent_gain(4796.56, 3839.50))\n",
        "# Nasdaq Jan 3 2022 to Jan 3 2023\n",
        "print(percent_gain(15832.80, 10466.48))"
      ]
    },
    {
      "cell_type": "markdown",
      "metadata": {
        "id": "XqEEnrlIdhMk"
      },
      "source": [
        "If a function is small, it may not seem necessary, but it could just serve to make some code more readable."
      ]
    },
    {
      "cell_type": "code",
      "execution_count": null,
      "metadata": {
        "id": "PyzOwBp5dhMk",
        "outputId": "162549f4-d1b5-4099-a659-f9184bc18e7f"
      },
      "outputs": [
        {
          "data": {
            "text/plain": [
              "5"
            ]
          },
          "execution_count": 4,
          "metadata": {},
          "output_type": "execute_result"
        }
      ],
      "source": [
        "def get_rating(movie_tuple):\n",
        "    # More readable way to access a movie rating\n",
        "    return movie_tuple[1]\n",
        "\n",
        "get_rating(('Portrait of a Lady on Fire', 5))"
      ]
    },
    {
      "cell_type": "markdown",
      "metadata": {
        "id": "K7meB9eIe_SX"
      },
      "source": [
        "# Exercise (7 min)\n",
        "\n",
        "Try writing a function with_tax() that takes a base price and a percentage as input, and returns the total price in dollars.  You can use round(price,2) to ensure your price has a valid number of cents.  For example, with_tax(1, 8.6) should return 1.09."
      ]
    },
    {
      "cell_type": "code",
      "execution_count": null,
      "metadata": {
        "id": "twKRPDFVfFsZ",
        "colab": {
          "base_uri": "https://localhost:8080/"
        },
        "outputId": "9f61df33-36e5-43a0-a181-91370a8fef45"
      },
      "outputs": [
        {
          "output_type": "execute_result",
          "data": {
            "text/plain": [
              "1.09"
            ]
          },
          "metadata": {},
          "execution_count": 3
        }
      ],
      "source": [
        "# TODO: with_tax()\n",
        "def calculate(base, percentage):\n",
        "  final = ((base) * (percentage)/100) + base\n",
        "  return(round(final,2))\n",
        "\n",
        "calculate(1,8.6)\n",
        "\n"
      ]
    },
    {
      "cell_type": "markdown",
      "metadata": {
        "id": "LYnIOk_vdhMl"
      },
      "source": [
        "# Variations"
      ]
    },
    {
      "cell_type": "markdown",
      "metadata": {
        "id": "8toXb7CLdhMm"
      },
      "source": [
        "## No arguments, no return value"
      ]
    },
    {
      "cell_type": "markdown",
      "metadata": {
        "id": "ALba51IIdhMm"
      },
      "source": [
        "Here's an example that takes no arguments at all.  (This is unusual.)  This example also evaluates to None, since it has no return statement."
      ]
    },
    {
      "cell_type": "code",
      "execution_count": null,
      "metadata": {
        "colab": {
          "base_uri": "https://localhost:8080/"
        },
        "id": "6A9MOHbp6oUU",
        "outputId": "7cfe2a90-5f32-408d-86a4-7e585efe4164"
      },
      "outputs": [
        {
          "output_type": "stream",
          "name": "stdout",
          "text": [
            "Hello, user!\n",
            "Today's date is 2023-09-22\n",
            "<function greet_user at 0x7ae831448e50>\n"
          ]
        }
      ],
      "source": [
        "from datetime import date\n",
        "\n",
        "def greet_user():\n",
        "  print(\"Hello, user!\")\n",
        "  print(\"Today's date is \" + str(date.today()))\n",
        "  #does not need a return bc no input or arguments\n",
        "\n",
        "print(greet_user()) # print to see it evaluates to None, because it has no return statement"
      ]
    },
    {
      "cell_type": "markdown",
      "metadata": {
        "id": "RS8fSFfpdhMm"
      },
      "source": [
        "A simple statement of \"return\" returns from the function with a value of None, but it's optional since the function will return with a \"None\" value without it as well."
      ]
    },
    {
      "cell_type": "code",
      "execution_count": null,
      "metadata": {
        "id": "E6THkbFTdhMn",
        "outputId": "bf7479f7-a5bf-460a-d57e-6e3b6d06f6cb"
      },
      "outputs": [
        {
          "name": "stdout",
          "output_type": "stream",
          "text": [
            "Hello, user!\n",
            "Today's date is 2023-08-16\n"
          ]
        }
      ],
      "source": [
        "def greet_user():\n",
        "  print(\"Hello, user!\")\n",
        "  print(\"Today's date is \" + str(date.today()))\n",
        "  return\n",
        "\n",
        "greet_user()"
      ]
    },
    {
      "cell_type": "markdown",
      "metadata": {
        "id": "Kkb04qzVdhMn"
      },
      "source": [
        "## Multiple return values"
      ]
    },
    {
      "cell_type": "markdown",
      "metadata": {
        "id": "1MJAQWkedhMn"
      },
      "source": [
        "It's possible for a function to have multiple return values.  The return statement should separate the different return values with commas, and where the function is called, comma-separated variables can have these multiple values assigned to them.  (The program thinks of the return value as a single tuple.)"
      ]
    },
    {
      "cell_type": "code",
      "execution_count": null,
      "metadata": {
        "colab": {
          "base_uri": "https://localhost:8080/"
        },
        "id": "Ew0UxqfadhMo",
        "outputId": "f402324a-26e0-4b3a-86ef-92f16baa28ab"
      },
      "outputs": [
        {
          "output_type": "stream",
          "name": "stdout",
          "text": [
            "Cassia\n",
            "6\n"
          ]
        }
      ],
      "source": [
        "def longest_customer_name(list_of_names):\n",
        "    # Find the longest customer name, and how long it is\n",
        "    # (maybe so we can display the names nicely later)\n",
        "    longest_len = 0\n",
        "    longest_name = \"\"\n",
        "    for n in list_of_names:\n",
        "        if len(n) > longest_len:\n",
        "            longest_len = len(n)\n",
        "            longest_name = n\n",
        "            #steps throguh the list once and return both values instead of using 2 def function\n",
        "    return longest_name, longest_len\n",
        "# if you dont want to print one of these two, then substitutte with _\n",
        "name, length = longest_customer_name(['Alice', 'Bob', 'Cassia'])\n",
        "print(name)\n",
        "print(length)"
      ]
    },
    {
      "cell_type": "markdown",
      "metadata": {
        "id": "5C8oyyKudhMo"
      },
      "source": [
        "# Exercise (5 min)\n",
        "\n",
        "For a list of numbers, we might often care about the min, the mean, and the max.  Write a function min_mean_max() that takes a list and returns all three values, using min(), statistics.mean(), and max().  You can assume the list isn't empty."
      ]
    },
    {
      "cell_type": "code",
      "source": [
        "from statistics import mean\n",
        "\n",
        "def min_mean_max(n):\n",
        "  min = min(n)\n",
        "  max = max(n)\n",
        "  mean = mean(n)\n",
        "  return(print(min, mean, max))\n",
        "\n",
        "min_mean_max([1,2,3,4,5])"
      ],
      "metadata": {
        "colab": {
          "base_uri": "https://localhost:8080/",
          "height": 327
        },
        "id": "xgGN4lHLwRAx",
        "outputId": "c8701eea-cb69-4ab9-c0f4-5d5c0c09847f"
      },
      "execution_count": null,
      "outputs": [
        {
          "output_type": "error",
          "ename": "UnboundLocalError",
          "evalue": "ignored",
          "traceback": [
            "\u001b[0;31m---------------------------------------------------------------------------\u001b[0m",
            "\u001b[0;31mUnboundLocalError\u001b[0m                         Traceback (most recent call last)",
            "\u001b[0;32m<ipython-input-15-5258fcdb720f>\u001b[0m in \u001b[0;36m<cell line: 9>\u001b[0;34m()\u001b[0m\n\u001b[1;32m      7\u001b[0m   \u001b[0;32mreturn\u001b[0m\u001b[0;34m(\u001b[0m\u001b[0mprint\u001b[0m\u001b[0;34m(\u001b[0m\u001b[0mmin\u001b[0m\u001b[0;34m,\u001b[0m \u001b[0mmean\u001b[0m\u001b[0;34m,\u001b[0m \u001b[0mmax\u001b[0m\u001b[0;34m)\u001b[0m\u001b[0;34m)\u001b[0m\u001b[0;34m\u001b[0m\u001b[0;34m\u001b[0m\u001b[0m\n\u001b[1;32m      8\u001b[0m \u001b[0;34m\u001b[0m\u001b[0m\n\u001b[0;32m----> 9\u001b[0;31m \u001b[0mmin_mean_max\u001b[0m\u001b[0;34m(\u001b[0m\u001b[0;34m[\u001b[0m\u001b[0;36m1\u001b[0m\u001b[0;34m,\u001b[0m\u001b[0;36m2\u001b[0m\u001b[0;34m,\u001b[0m\u001b[0;36m3\u001b[0m\u001b[0;34m,\u001b[0m\u001b[0;36m4\u001b[0m\u001b[0;34m,\u001b[0m\u001b[0;36m5\u001b[0m\u001b[0;34m]\u001b[0m\u001b[0;34m)\u001b[0m\u001b[0;34m\u001b[0m\u001b[0;34m\u001b[0m\u001b[0m\n\u001b[0m",
            "\u001b[0;32m<ipython-input-15-5258fcdb720f>\u001b[0m in \u001b[0;36mmin_mean_max\u001b[0;34m(n)\u001b[0m\n\u001b[1;32m      2\u001b[0m \u001b[0;34m\u001b[0m\u001b[0m\n\u001b[1;32m      3\u001b[0m \u001b[0;32mdef\u001b[0m \u001b[0mmin_mean_max\u001b[0m\u001b[0;34m(\u001b[0m\u001b[0mn\u001b[0m\u001b[0;34m)\u001b[0m\u001b[0;34m:\u001b[0m\u001b[0;34m\u001b[0m\u001b[0;34m\u001b[0m\u001b[0m\n\u001b[0;32m----> 4\u001b[0;31m   \u001b[0mmin\u001b[0m \u001b[0;34m=\u001b[0m \u001b[0mmin\u001b[0m\u001b[0;34m(\u001b[0m\u001b[0mn\u001b[0m\u001b[0;34m)\u001b[0m\u001b[0;34m\u001b[0m\u001b[0;34m\u001b[0m\u001b[0m\n\u001b[0m\u001b[1;32m      5\u001b[0m   \u001b[0mmax\u001b[0m \u001b[0;34m=\u001b[0m \u001b[0mmax\u001b[0m\u001b[0;34m(\u001b[0m\u001b[0mn\u001b[0m\u001b[0;34m)\u001b[0m\u001b[0;34m\u001b[0m\u001b[0;34m\u001b[0m\u001b[0m\n\u001b[1;32m      6\u001b[0m   \u001b[0mmean\u001b[0m \u001b[0;34m=\u001b[0m \u001b[0mmean\u001b[0m\u001b[0;34m(\u001b[0m\u001b[0mn\u001b[0m\u001b[0;34m)\u001b[0m\u001b[0;34m\u001b[0m\u001b[0;34m\u001b[0m\u001b[0m\n",
            "\u001b[0;31mUnboundLocalError\u001b[0m: local variable 'min' referenced before assignment"
          ]
        }
      ]
    },
    {
      "cell_type": "code",
      "execution_count": null,
      "metadata": {
        "colab": {
          "base_uri": "https://localhost:8080/"
        },
        "id": "upWB3-8zdhMp",
        "outputId": "a18890d7-06c2-47a4-d08f-8de4d76ce911"
      },
      "outputs": [
        {
          "output_type": "execute_result",
          "data": {
            "text/plain": [
              "(1, 3, 5)"
            ]
          },
          "metadata": {},
          "execution_count": 13
        }
      ],
      "source": [
        "from statistics import mean\n",
        "\n",
        "def min_mean_max(nlist):\n",
        "  return(min(nlist), mean(nlist), max(nlist))\n",
        "\n",
        "min_mean_max([1,2,3,4,5])\n"
      ]
    },
    {
      "cell_type": "markdown",
      "metadata": {
        "id": "p7_XatgSdhMq"
      },
      "source": [
        "# Functions Day 2"
      ]
    },
    {
      "cell_type": "markdown",
      "metadata": {
        "id": "CqAuXAMUdhMq"
      },
      "source": [
        "*On the plane to the Democratic Republic of Congo, Cynthia repeatedly checked her phone for messages from Kathleen.  Nothing, nothing, nothing.*\n",
        "\n",
        "*Until, finally - a message!  From Kathleen!  Cynthia opened it and ... \"What is this crazy nonsense you sent me???\" Kathleen wrote.  \"What am I even looking at???\"*\n",
        "\n",
        "*Maybe I could have done more to organize my code, Cynthia thought ruefully.  Having my hard work dismissed as nonsense ... kind of sucks.*"
      ]
    },
    {
      "cell_type": "markdown",
      "metadata": {
        "id": "z5p1EB3qdhMq"
      },
      "source": [
        "## Multiple return statements"
      ]
    },
    {
      "cell_type": "markdown",
      "metadata": {
        "id": "DZ_8u228dhMr"
      },
      "source": [
        "There could be multiple points in the function with return statements, although it's considered stylistically preferable for there to be just one return statement if possible.  As soon as the return statement is reached and evaluated, the function quits, and any lines further down aren't evaluated."
      ]
    },
    {
      "cell_type": "code",
      "execution_count": null,
      "metadata": {
        "id": "iNhwIve4dhMr"
      },
      "outputs": [],
      "source": [
        "def count_items(lst):\n",
        "    # Count items but warn if the list is empty\n",
        "    if (len(lst) == 0):\n",
        "        print('Warning: empty list passed to count_items!')\n",
        "        return 0\n",
        "    print(\"We don't get here with an empty list\")\n",
        "    return len(lst)\n",
        "\n",
        "count_items([])"
      ]
    },
    {
      "cell_type": "markdown",
      "metadata": {
        "id": "AJr8smLDdhMr"
      },
      "source": [
        "One reason to return early could be that the function found something it was looking for - and there's no need to look any further.  The final return statement could be the behavior for the case where nothing is found."
      ]
    },
    {
      "cell_type": "code",
      "execution_count": null,
      "metadata": {
        "id": "4XlP54UrdhMs"
      },
      "outputs": [],
      "source": [
        "def is_prime(n):\n",
        "    for i in range(2, n): # Look for a divisor\n",
        "        if n % i == 0:    # i divides n evenly, no remainder\n",
        "            return False\n",
        "    return True           # didn't find a divisor\n",
        "\n",
        "print(is_prime(11))\n",
        "print(is_prime(4))"
      ]
    },
    {
      "cell_type": "markdown",
      "metadata": {
        "id": "slgmLMADdhMs"
      },
      "source": [
        "## Functions calling functions"
      ]
    },
    {
      "cell_type": "markdown",
      "metadata": {
        "id": "ohQMZincdhMt"
      },
      "source": [
        "You can define functions that call other functions that you've written.  In a big project, there could be several levels of hierarchy to your code, with function A calling function B calling function C."
      ]
    },
    {
      "cell_type": "code",
      "execution_count": null,
      "metadata": {
        "id": "g39rXpVsdhMu",
        "outputId": "b1b9e297-1cd7-4920-8094-a4e772e481fc"
      },
      "outputs": [
        {
          "data": {
            "text/plain": [
              "2"
            ]
          },
          "execution_count": 14,
          "metadata": {},
          "output_type": "execute_result"
        }
      ],
      "source": [
        "# Repeat these functions because it's day 2\n",
        "# and we haven't run their boxes for a while\n",
        "#stuff inside def funtions are local. so vairables are not global\n",
        "def longest_customer_name(list_of_names):\n",
        "    # Find the longest customer name, and how long it is\n",
        "    # (maybe so we can display the names nicely later)\n",
        "    longest_len = 0\n",
        "    longest_name = \"\"\n",
        "    for n in list_of_names:\n",
        "        if len(n) > longest_len:\n",
        "            longest_len = len(n)\n",
        "            longest_name = n\n",
        "    return longest_name, longest_len\n",
        "\n",
        "def count_matches(to_match, my_list):\n",
        "  # Counts how many times to_match appears in my_list\n",
        "  count = 0\n",
        "  for m in my_list:\n",
        "    if to_match == m:\n",
        "      count += 1\n",
        "  return count\n",
        "\n",
        "def count_longest_name(list_of_names):\n",
        "    # Count how many times the longest name appears in the list\n",
        "    # Makes use of functions defined above\n",
        "    word, length = longest_customer_name(list_of_names)\n",
        "    return count_matches(word,list_of_names)\n",
        "\n",
        "count_longest_name(['Alice','Bob','Catherine','Catherine'])\n"
      ]
    },
    {
      "cell_type": "markdown",
      "metadata": {
        "id": "C4lPPL8kdhMu"
      },
      "source": [
        "# Exercise (5 min)\n",
        "\n",
        "Write a function all_names_short_enough that takes as arguments as list of strings and an integer character limit, and returns True only if all names have at most that many characters.  Thus all_names_short_enough(['Alice', 'Bob'], 3) would return False, but passing 5 as the second argument would make it True.\n",
        "\n",
        "Choose one of the following ways to do this:  either iterate through the names and quit early if a too-long name is encountered; or just call longest_customer_name(), defined above, and use one of its results to decide whether the list qualifies."
      ]
    },
    {
      "cell_type": "code",
      "execution_count": null,
      "metadata": {
        "id": "6K8R0R48dhMu"
      },
      "outputs": [],
      "source": [
        "def all_names_short_enough1(names, limit):\n",
        "    for name in names:\n",
        "        if len(name) > limit:\n",
        "            return False\n",
        "    return True\n",
        "\n",
        "def all_names_short_enough2(names, limit):\n",
        "    name, length = longest_customer_name(names)\n",
        "    return length <= limit\n",
        "\n",
        "print(all_names_short_enough1(['Alice', 'Bob'], 3))\n",
        "print(all_names_short_enough1(['Alice', 'Bob'], 5))\n",
        "print(all_names_short_enough2(['Alice', 'Bob'], 3))\n",
        "print(all_names_short_enough2(['Alice', 'Bob'], 5))\n"
      ]
    },
    {
      "cell_type": "markdown",
      "metadata": {
        "id": "GERMMYi57tD4"
      },
      "source": [
        "# Scope and local variables\n",
        "\n",
        "All the variables created in a function, including the arguments, are no longer accessible once the function returns.  All that memory gets cleaned up and made available again.  This helps reduce bugs, because if a function \"makes a mess\" by creating many different variables as it executes, there's no way the code outside the function can accidentally look at a value that was intended just for the function.\n"
      ]
    },
    {
      "cell_type": "code",
      "execution_count": null,
      "metadata": {
        "id": "Tg840KtxdhMv"
      },
      "outputs": [],
      "source": [
        "def add5(arg):\n",
        "    b = arg + 5\n",
        "    return b\n",
        "\n",
        "add5(7) # Return 12\n",
        "b  # Program says it doesn't know what this is\n",
        "arg  # Similarly no recollection"
      ]
    },
    {
      "cell_type": "markdown",
      "metadata": {
        "id": "rklRjzGkdhMv"
      },
      "source": [
        "This is also an example of \"encapsulation,\" the principle that the user of a function shouldn't need to know how it was implemented. You assume that as long as you know the inputs, outputs, and that it works, you don't need to know exactly how it works.  If you needed to know the names of a lot of variables that get modified as the function works, that wouldn't be encapsulated.\n"
      ]
    },
    {
      "cell_type": "markdown",
      "metadata": {
        "id": "l0jPnTh2dhMv"
      },
      "source": [
        "While the program \"forgets\" variables when it leaves functions, it's aware of variables outside the function while the function is executing.  Variables declared outside all functions are called \"global variables,\" and they can be accessed from inside functions.  But it's better style to pass in the needed values as arguments, rather than using global variables."
      ]
    },
    {
      "cell_type": "markdown",
      "metadata": {
        "id": "yORxFTApdhMv"
      },
      "source": [
        "Newcomers to functions often don't understand why pattern A in the next code box is better than pattern B.  They both theoretically get the job done, but the second one uses a *global variable* that breaks encapsulation.  In big code bases, hunting for where a global variable was defined, and trying to determine what might change it, is not sustainable."
      ]
    },
    {
      "cell_type": "code",
      "execution_count": null,
      "metadata": {
        "colab": {
          "base_uri": "https://localhost:8080/"
        },
        "id": "dDO03oa59dOG",
        "outputId": "2e446b49-dd20-4d33-96bb-5f6c7f0bb687"
      },
      "outputs": [
        {
          "name": "stdout",
          "output_type": "stream",
          "text": [
            "120.0\n",
            "120.0\n"
          ]
        }
      ],
      "source": [
        "def pattern_a(price, tax):\n",
        "  return price * (1 + 0.01 * tax)  # Everything we need is in the arguments - good\n",
        "\n",
        "tax = 20 # Global variable - this is worse style\n",
        "def pattern_b(price):\n",
        "  return price * (1 + 0.01 * tax) # Works, but less flexible, hard to debug\n",
        "\n",
        "print(pattern_a(100,20))\n",
        "print(pattern_b(100))"
      ]
    },
    {
      "cell_type": "markdown",
      "metadata": {
        "id": "XGZDyOiCmXlf"
      },
      "source": [
        "# Shadowing\n",
        "\n",
        "A variable declared in a function can \"shadow\" a variable that lives outside the function with the same name, sharing its name and preventing access to the outside variable until the function is done.  Again, this means users of your function don't need to worry about what you named your variables.  Below, the local copy of *a* shadows the value of *a* that lives outside the function."
      ]
    },
    {
      "cell_type": "code",
      "execution_count": null,
      "metadata": {
        "colab": {
          "base_uri": "https://localhost:8080/"
        },
        "id": "woox2zkDnIV5",
        "outputId": "ee889b29-849e-4b5e-c0e4-5535dff8098d"
      },
      "outputs": [
        {
          "output_type": "stream",
          "name": "stdout",
          "text": [
            "a is 4 inside add_two\n",
            "add_two(2) is 4\n",
            "a is 5 outside add_two\n"
          ]
        }
      ],
      "source": [
        "def add_two(my_number):\n",
        "  # Adds two to the argument.\n",
        "  a = my_number + 2\n",
        "  print(\"a is \" + str(a) + \" inside add_two\")\n",
        "  return a\n",
        "\n",
        "a = 5\n",
        "# remembers what a is inside the function when called even if same name as same thng outside\n",
        "print(\"add_two(2) is \" + str(add_two(2))) # local \"a\" set to 4\n",
        "print(\"a is \" + str(a) + \" outside add_two\")"
      ]
    },
    {
      "cell_type": "markdown",
      "metadata": {
        "id": "QSzT0zLOdhMw"
      },
      "source": [
        "Shadowing often happens with arguments, because the name of the argument is what we wanted to call the variable at the top level, too.  But the local variable in the function and the one at the top level are two different variables."
      ]
    },
    {
      "cell_type": "code",
      "execution_count": null,
      "metadata": {
        "id": "ACy1xp-adhMw"
      },
      "outputs": [],
      "source": [
        "my_list = ['a','b','c']\n",
        "\n",
        "def concatenate_all(my_list):\n",
        "    out = ''\n",
        "    for item in my_list:\n",
        "        out += item\n",
        "    return out\n",
        "\n",
        "print(concatenate_all(['d','e'])) # ['d','e'] is called my_list in the function\n",
        "print(concatenate_all(my_list))  # my_list is still a,b,c"
      ]
    },
    {
      "cell_type": "markdown",
      "metadata": {
        "id": "vq971zrV_SD3"
      },
      "source": [
        "# Refactoring\n",
        "\n",
        "It might not be obvious at first what parts of code need to be broken up into functions.  You may well end up writing a piece of code only to look back and say, \"Hmm, that could have been more concise with functions.\"  If you did copy-paste any code in the course of writing it, that might be a good signal that the code could use some reorganization.\n",
        "\n",
        "\"Refactoring\" is simply the act of trying to clean up the breakdown of the code into functions - probably by turning non-function code into functions, but perhaps also cleaning up which functions do what."
      ]
    },
    {
      "cell_type": "markdown",
      "metadata": {
        "id": "QjLDbpkJdhMw"
      },
      "source": [
        "Here is some code that could use a cleanup:"
      ]
    },
    {
      "cell_type": "code",
      "execution_count": null,
      "metadata": {
        "id": "reirVd75Aafj"
      },
      "outputs": [],
      "source": [
        "names = [\"alice\", \"BOB\", \"Catherine\", \"Donovan\"]\n",
        "standardized_names = []\n",
        "for name in names:\n",
        "    name = name.capitalize()\n",
        "    if len(name) > 5:\n",
        "        name = name[0:5]\n",
        "    standardized_names.append(name) # Capitalize first letter, lc others\n",
        "jobs = ['firefighter', 'LIBRARIAN', 'Pilot', 'teacheR']\n",
        "standardized_jobs = []\n",
        "for job in jobs:\n",
        "    job = job.capitalize()\n",
        "    if len(job) > 3:\n",
        "        job = job[0:3]\n",
        "    standardized_jobs.append(job)\n",
        "print(standardized_names)\n",
        "print(standardized_jobs)\n"
      ]
    },
    {
      "cell_type": "markdown",
      "metadata": {
        "id": "dIvmX5IHBW5b"
      },
      "source": [
        "The familiarity of the second loop should clue us in to the repetitiveness.  The string length limit is different, but that's easily addressed with an argument."
      ]
    },
    {
      "cell_type": "markdown",
      "metadata": {
        "id": "GUpyjL8ldhMx"
      },
      "source": [
        "So instead, we can turn this into a function.  We can get new, more readable code like this:"
      ]
    },
    {
      "cell_type": "code",
      "execution_count": null,
      "metadata": {
        "id": "xRPgiOpXBwVA"
      },
      "outputs": [],
      "source": [
        "def standardize_strings(string_list, char_limit):\n",
        "    out = []\n",
        "    for s in string_list:\n",
        "        s = s.capitalize()\n",
        "        if len(s) > char_limit:\n",
        "            s = s[0:char_limit]\n",
        "        out.append(s)\n",
        "    return out\n",
        "\n",
        "standard_names = standardize_strings(names, 5)\n",
        "standard_jobs = standardize_strings(jobs, 3)\n",
        "print(standard_names)\n",
        "print(standard_jobs)"
      ]
    },
    {
      "cell_type": "markdown",
      "metadata": {
        "id": "AbjpebNICWJW"
      },
      "source": [
        "This is a fairly small cleanup job, but it shows how the code is now a little more concise, a little more readable, a little more debuggable, and maybe usable elsewhere."
      ]
    },
    {
      "cell_type": "markdown",
      "metadata": {
        "id": "5XlzZrYSdhMx"
      },
      "source": [
        "# Exercise (2 min)\n",
        "\n",
        "Whups, we actually wanted to add a # character to the end of any string that was truncated because it was too long, for both the names and the jobs.  Change the standardize_strings() code below to have this functionality.  Was that easier than changing the original code in every place there was truncation?"
      ]
    },
    {
      "cell_type": "code",
      "execution_count": null,
      "metadata": {
        "id": "6KJsABp7dhMx"
      },
      "outputs": [],
      "source": [
        "def standardize_strings(string_list, char_limit):\n",
        "    out = []\n",
        "    for s in string_list:\n",
        "        s = s.capitalize()\n",
        "        if len(s) > char_limit:\n",
        "            s = s[0:char_limit]\n",
        "        out.append(s)\n",
        "    return out\n",
        "\n",
        "standard_names = standardize_strings(names, 5)\n",
        "standard_jobs = standardize_strings(jobs, 3)\n",
        "print(standard_names)\n",
        "print(standard_jobs)"
      ]
    },
    {
      "cell_type": "markdown",
      "metadata": {
        "id": "L8bjgc20bqW1"
      },
      "source": [
        "# Pseudocode and functions\n",
        "\n",
        "Pseudocode is code that is written in a style closer to English than any particular programming language.  It's meant for human readers instead of being parsed by machine.  Sketching out a program in pseudocode ahead of time can help identify what would make a good function in the program.\n",
        "\n"
      ]
    },
    {
      "cell_type": "markdown",
      "metadata": {
        "id": "CZb-lNUAdhMx"
      },
      "source": [
        "Here is some pseudocode for the top level of a program to analyze some data:\n",
        "```\n",
        "open and read the customer purchase datafile\n",
        "for every row in the data:\n",
        "    if it's a new customer:\n",
        "        create a new customer record\n",
        "    add customer's purchases to database\n",
        "    if customer is eligible for rewards:\n",
        "        add customer to rewards list\n",
        "    add purchases to database\n",
        "sort all purchases in database by popularity\n",
        "remove least popular items from database\n",
        "predict for each customer what they will buy\n",
        "return customers, rewards list, predictions\n",
        "```"
      ]
    },
    {
      "cell_type": "markdown",
      "metadata": {
        "id": "TNohsbhUdhMy"
      },
      "source": [
        "Here are some benefits of writing pseudocode:\n",
        "\n",
        "* You can show your pseudocode to another programmer, and they can catch bugs, cases you're not handling, or errors in your thinking before you ever write any real code.\n",
        "\n",
        "* From a pseudocode outline, it's easy to identify what high-level functions need to be written.  On a team, you can then break up the work by delegating the writing of these functions.\n",
        "\n",
        "* When writing your own code, you may find it useful to write pseudocode in comments, then gradually replace it with actual code.\n",
        "\n",
        "* We will later study algorithms, or procedures for doing things that are fast, and these are traditionally described in pseudocode instead of a specific language like Python, so that they clearly don't depend on language-specific details."
      ]
    },
    {
      "cell_type": "markdown",
      "metadata": {
        "id": "slXn6JwhfITS"
      },
      "source": [
        "# Comment conventions\n",
        "\n",
        "There is a standard way to comment Python functions.  It's probably overkill for very simple functions, but it's a good habit to get into, and whoever needs to work with your code next, whether a grader, a coworker, or your boss, will be happy that everything is well-commented.\n"
      ]
    },
    {
      "cell_type": "markdown",
      "metadata": {
        "id": "LmtI7v9DdhMy"
      },
      "source": [
        "\n",
        "These comments use three double-quotes surrounding a multiline string:"
      ]
    },
    {
      "cell_type": "code",
      "execution_count": null,
      "metadata": {
        "id": "7LOKMHQkfjFj"
      },
      "outputs": [],
      "source": [
        "def get_first_letter(word):\n",
        "  \"\"\" Returns the first letter of a string.\n",
        "\n",
        "  word (str):  The string to get the letter from.\n",
        "\n",
        "  A simple function just for demo purposes.  Probably\n",
        "  not useful since get_first_letter takes more characters\n",
        "  to type than string[0].\n",
        "  \"\"\"\n",
        "\n",
        "  return word[0]"
      ]
    },
    {
      "cell_type": "markdown",
      "metadata": {
        "id": "mLLxGyYzglcK"
      },
      "source": [
        "The first line of the multiline comment should be a quick description of what the function does.  After some space, there's then a description of every argument and its expected type.  Below that is anything else a programmer ought to know."
      ]
    },
    {
      "cell_type": "markdown",
      "metadata": {
        "id": "HoVZRenbiBtd"
      },
      "source": [
        "# Tests\n",
        "\n",
        "It's a good software engineering principle to write tests for every function that you write.  This can use dedicated testing tools for your language, or it can just consist of writing function calls and comparing the results to what they should be."
      ]
    },
    {
      "cell_type": "code",
      "execution_count": null,
      "metadata": {
        "colab": {
          "base_uri": "https://localhost:8080/"
        },
        "id": "X7MErytjibgJ",
        "outputId": "d9b8d713-8ff7-46fa-ac39-9f07ed586930"
      },
      "outputs": [
        {
          "name": "stdout",
          "output_type": "stream",
          "text": [
            "True\n",
            "True\n",
            "True\n",
            "True\n"
          ]
        }
      ],
      "source": [
        "# Remember to run the corresponding cells to define these functions\n",
        "print(get_first_letter(\"Shibboleth\") == \"S\")\n",
        "print(pattern_a(100,20) == 120)\n",
        "print(count_matches(\"A\",[]) == 0)\n",
        "print(count_matches(\"A\", [\"A\",\"A\",\"A\"]) == 3)"
      ]
    },
    {
      "cell_type": "markdown",
      "metadata": {
        "id": "xOiv39I4jVVC"
      },
      "source": [
        "In tests, you want to \"kick the tires\" of your function and determine not only whether it works under ideal conditions, but also in the toughest of corner cases.  For count_matches, I could test whether the function does the right thing for empty lists, or for longer lists where all the items match."
      ]
    },
    {
      "cell_type": "markdown",
      "metadata": {
        "id": "Qca1HuE1dhMz"
      },
      "source": [
        "We won't adopt any official tools for testing in this class.  But I suggest that for any major piece of code, you have a cell with test calls that make it easy to tell whether the code is doing the right thing."
      ]
    }
  ],
  "metadata": {
    "celltoolbar": "Slideshow",
    "colab": {
      "provenance": [],
      "include_colab_link": true
    },
    "kernelspec": {
      "display_name": "Python 3",
      "language": "python",
      "name": "python3"
    },
    "language_info": {
      "codemirror_mode": {
        "name": "ipython",
        "version": 3
      },
      "file_extension": ".py",
      "mimetype": "text/x-python",
      "name": "python",
      "nbconvert_exporter": "python",
      "pygments_lexer": "ipython3",
      "version": "3.8.8"
    },
    "rise": {
      "scroll": true
    }
  },
  "nbformat": 4,
  "nbformat_minor": 0
}